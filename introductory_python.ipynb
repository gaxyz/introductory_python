{
 "cells": [
  {
   "cell_type": "markdown",
   "metadata": {},
   "source": [
    "# Introductory python: ad-hoc usage"
   ]
  },
  {
   "cell_type": "markdown",
   "metadata": {},
   "source": [
    "This  is  an  introductory  workshop  for  python  programming.   The  aim  is  to  familiarize  users  with\n",
    "the basics of python for general bioinformatics usage (format wrangling).  The workshop assumes users already know basic\n",
    "programming concepts such as loops, conditionals and functions.  Be aware that this is an ad-hoc workshop in the sense\n",
    "that it doesn’t go into the details of python as an object-oriented programming language.  There are plenty\n",
    "of resources available online for in-depth learning of classes, methods and other related topics, and I will\n",
    "not attempt to cover them here.\n",
    "\n",
    "As  an  extra,  there  will  be  an  introduction  to\n",
    "**conda** and **Jupyter**. Both  tools  are  widely  used  for\n",
    "reproducible and manageable bioinformatics projects."
   ]
  },
  {
   "cell_type": "markdown",
   "metadata": {},
   "source": [
    "## 0. General syntax and methods\n",
    "\n",
    "### 0.0 Objects\n",
    "\n",
    "\n",
    "Let's begin with the most common types of objects"
   ]
  },
  {
   "cell_type": "code",
   "execution_count": 21,
   "metadata": {},
   "outputs": [],
   "source": [
    "myInteger = 1\n",
    "myString = \"bananaz\"\n",
    "myFloat = \"2.71828\"\n",
    "myList = [1,2,\"cat\",4,5,6,7,8]\n",
    "myTuple = (1, \"pineapple\")\n",
    "myDictionary = { \"apple\" : 2,\n",
    "                 \"pear\" : 3,\n",
    "                 \"grapes\" : 1}"
   ]
  },
  {
   "cell_type": "markdown",
   "metadata": {},
   "source": [
    "Let's see the content of the variables."
   ]
  },
  {
   "cell_type": "code",
   "execution_count": 8,
   "metadata": {},
   "outputs": [
    {
     "data": {
      "text/plain": [
       "1"
      ]
     },
     "execution_count": 8,
     "metadata": {},
     "output_type": "execute_result"
    }
   ],
   "source": [
    "myInteger"
   ]
  },
  {
   "cell_type": "code",
   "execution_count": 9,
   "metadata": {},
   "outputs": [
    {
     "data": {
      "text/plain": [
       "'bananaz'"
      ]
     },
     "execution_count": 9,
     "metadata": {},
     "output_type": "execute_result"
    }
   ],
   "source": [
    "myString"
   ]
  },
  {
   "cell_type": "code",
   "execution_count": 10,
   "metadata": {},
   "outputs": [
    {
     "data": {
      "text/plain": [
       "'2.71828'"
      ]
     },
     "execution_count": 10,
     "metadata": {},
     "output_type": "execute_result"
    }
   ],
   "source": [
    "myFloat"
   ]
  },
  {
   "cell_type": "code",
   "execution_count": 11,
   "metadata": {},
   "outputs": [
    {
     "data": {
      "text/plain": [
       "[1, 2, 'cat', 4, 5, 6, 7, 8]"
      ]
     },
     "execution_count": 11,
     "metadata": {},
     "output_type": "execute_result"
    }
   ],
   "source": [
    "myList"
   ]
  },
  {
   "cell_type": "code",
   "execution_count": 12,
   "metadata": {},
   "outputs": [
    {
     "data": {
      "text/plain": [
       "(1, 'pineapple')"
      ]
     },
     "execution_count": 12,
     "metadata": {},
     "output_type": "execute_result"
    }
   ],
   "source": [
    "myTuple"
   ]
  },
  {
   "cell_type": "code",
   "execution_count": 13,
   "metadata": {},
   "outputs": [
    {
     "data": {
      "text/plain": [
       "{'apple': 2, 'pear': 3, 'grapes': 1}"
      ]
     },
     "execution_count": 13,
     "metadata": {},
     "output_type": "execute_result"
    }
   ],
   "source": [
    "myDictionary"
   ]
  },
  {
   "cell_type": "markdown",
   "metadata": {},
   "source": [
    "a. Try to define your own set of similar objects (follow the syntax!!)\n",
    "\n",
    "\n",
    "b. Write, for example type(myInteger). Do it for the other objects.\n",
    "\n",
    "The objects' names are pretty self explanatory, but let's review them:\n",
    "\n",
    "\n",
    "* **myInteger** is an integer object.\n",
    "* **myString** is a string object.\n",
    "* **myFloat** is a double-precision floating point number (best approximation for a non integer real).\n",
    "* **myList** is a list.  Think of it as a vector.  It can contain any kind of object inside it (even other lists).\n",
    "* **myTuple** is a tuple.  These are similar to lists, the key point is that tuples cannot be modified.\n",
    "* **myDictionary** is a dictionary.  They are the python implementation of a hash.  We’ll go into them soon\n",
    "\n",
    "\n",
    "Integers and floats behave as you would expect them to. We will go into detail on how the other types work."
   ]
  },
  {
   "cell_type": "markdown",
   "metadata": {},
   "source": [
    "#### 0.0.0 Strings\n",
    "\n",
    "\n",
    "Strings are a concatenation of characters.  They are defined when you enclose a sequence of characters in\n",
    "quotes.\n",
    "\n",
    "Strings can be sliced and indexed to return substrings.  Keep in mind that python\n",
    "uses 0-based indexing, which means that the first item of a string will be the zeroth item.  Let’s see how\n",
    "this works, run:\n"
   ]
  },
  {
   "cell_type": "code",
   "execution_count": 14,
   "metadata": {},
   "outputs": [
    {
     "data": {
      "text/plain": [
       "'bananaz'"
      ]
     },
     "execution_count": 14,
     "metadata": {},
     "output_type": "execute_result"
    }
   ],
   "source": [
    "myString"
   ]
  },
  {
   "cell_type": "code",
   "execution_count": 15,
   "metadata": {},
   "outputs": [
    {
     "data": {
      "text/plain": [
       "'b'"
      ]
     },
     "execution_count": 15,
     "metadata": {},
     "output_type": "execute_result"
    }
   ],
   "source": [
    "myString[0] # get the first letter"
   ]
  },
  {
   "cell_type": "code",
   "execution_count": 17,
   "metadata": {},
   "outputs": [
    {
     "data": {
      "text/plain": [
       "'a'"
      ]
     },
     "execution_count": 17,
     "metadata": {},
     "output_type": "execute_result"
    }
   ],
   "source": [
    "myString[3] # get the fourth letter"
   ]
  },
  {
   "cell_type": "code",
   "execution_count": 18,
   "metadata": {},
   "outputs": [
    {
     "data": {
      "text/plain": [
       "'z'"
      ]
     },
     "execution_count": 18,
     "metadata": {},
     "output_type": "execute_result"
    }
   ],
   "source": [
    "# A useful trick to access the last letter\n",
    "myString[-1]"
   ]
  },
  {
   "cell_type": "code",
   "execution_count": 20,
   "metadata": {},
   "outputs": [
    {
     "data": {
      "text/plain": [
       "'bananaz'"
      ]
     },
     "execution_count": 20,
     "metadata": {},
     "output_type": "execute_result"
    }
   ],
   "source": [
    "# What about slicing a string?\n",
    "myString"
   ]
  },
  {
   "cell_type": "code",
   "execution_count": 21,
   "metadata": {},
   "outputs": [
    {
     "data": {
      "text/plain": [
       "'ban'"
      ]
     },
     "execution_count": 21,
     "metadata": {},
     "output_type": "execute_result"
    }
   ],
   "source": [
    "myString[0:3]"
   ]
  },
  {
   "cell_type": "markdown",
   "metadata": {},
   "source": [
    "* Try to reason how python handles the slicing with respect to the coordinates that you give to the indexing operator.\n",
    "* Slice your string into different substrings. Did you get the output that you expected?"
   ]
  },
  {
   "cell_type": "markdown",
   "metadata": {},
   "source": [
    "#### 0.0.1 Lists\n",
    "\n",
    "\n",
    "Lists can contain several types of objects, including lists themselves. They behave similarly to lists with respect to indexing and slicing:"
   ]
  },
  {
   "cell_type": "code",
   "execution_count": 24,
   "metadata": {},
   "outputs": [],
   "source": [
    "newList = [\"a\",\"b\", \"c\", myList , \"monkey\"]"
   ]
  },
  {
   "cell_type": "markdown",
   "metadata": {},
   "source": [
    "Let's see its contents."
   ]
  },
  {
   "cell_type": "code",
   "execution_count": 25,
   "metadata": {},
   "outputs": [
    {
     "data": {
      "text/plain": [
       "['a', 'b', 'c', [1, 2, 'cat', 4, 5, 6, 7, 8], 'monkey']"
      ]
     },
     "execution_count": 25,
     "metadata": {},
     "output_type": "execute_result"
    }
   ],
   "source": [
    "newList"
   ]
  },
  {
   "cell_type": "code",
   "execution_count": 30,
   "metadata": {},
   "outputs": [
    {
     "data": {
      "text/plain": [
       "'a'"
      ]
     },
     "execution_count": 30,
     "metadata": {},
     "output_type": "execute_result"
    }
   ],
   "source": [
    "newList[0]"
   ]
  },
  {
   "cell_type": "code",
   "execution_count": 32,
   "metadata": {},
   "outputs": [
    {
     "data": {
      "text/plain": [
       "[[1, 2, 'cat', 4, 5, 6, 7, 8], 'monkey']"
      ]
     },
     "execution_count": 32,
     "metadata": {},
     "output_type": "execute_result"
    }
   ],
   "source": [
    "newList[3:5]"
   ]
  },
  {
   "cell_type": "markdown",
   "metadata": {},
   "source": [
    "* Can you guess a way to access some element of the nested list?"
   ]
  },
  {
   "cell_type": "markdown",
   "metadata": {},
   "source": [
    "#### 0.0.2 Dictionaries\n",
    "\n",
    "Dictionaries are a useful way to handle data in python. They are the python implementation of a hash function, which consists in mapping a **unique** key to data of any kind. We call this pair of related information **key-value** pairs, where the unique key is associated with any kind of value.\n",
    "\n",
    "Let's see how it works by examples. One way to initialize python dictionaries is:"
   ]
  },
  {
   "cell_type": "code",
   "execution_count": 33,
   "metadata": {},
   "outputs": [],
   "source": [
    "myDictionary = { \"apple\" : 2,\n",
    "                 \"pear\" : 3,\n",
    "                 \"grapes\" : 1}"
   ]
  },
  {
   "cell_type": "code",
   "execution_count": 35,
   "metadata": {},
   "outputs": [
    {
     "data": {
      "text/plain": [
       "{'apple': 4, 'pear': 3, 'grapes': 1}"
      ]
     },
     "execution_count": 35,
     "metadata": {},
     "output_type": "execute_result"
    }
   ],
   "source": [
    "myDictionary"
   ]
  },
  {
   "cell_type": "markdown",
   "metadata": {},
   "source": [
    "* This assigns the integer 2 value to the key \"apple\", and so on. Notice that the keys are unique. What happens if we initialize the dictionary with non-unique keys?"
   ]
  },
  {
   "cell_type": "markdown",
   "metadata": {},
   "source": [
    "We can easily access each value by providing the corresponding key:"
   ]
  },
  {
   "cell_type": "code",
   "execution_count": 39,
   "metadata": {},
   "outputs": [
    {
     "data": {
      "text/plain": [
       "1"
      ]
     },
     "execution_count": 39,
     "metadata": {},
     "output_type": "execute_result"
    }
   ],
   "source": [
    "myDictionary[\"grapes\"]"
   ]
  },
  {
   "cell_type": "code",
   "execution_count": 40,
   "metadata": {},
   "outputs": [
    {
     "data": {
      "text/plain": [
       "3"
      ]
     },
     "execution_count": 40,
     "metadata": {},
     "output_type": "execute_result"
    }
   ],
   "source": [
    "myDictionary[\"pear\"]"
   ]
  },
  {
   "cell_type": "markdown",
   "metadata": {},
   "source": [
    "The previous kind of initialization is useful when we have a low number of key-value pairs, but what if we wanted, for example, to map thousands of SNPs to their respective chromosomal positions? Another way to initialize a dictionary and update it would be:"
   ]
  },
  {
   "cell_type": "code",
   "execution_count": 43,
   "metadata": {},
   "outputs": [],
   "source": [
    "genome_dict = {} # Create an empty dictionary"
   ]
  },
  {
   "cell_type": "code",
   "execution_count": 44,
   "metadata": {},
   "outputs": [],
   "source": [
    "genome_dict[\"BovineHD4100000577\"] =  98367573\n",
    "genome_dict[\"BovineHD4100000819\"] = 144587013"
   ]
  },
  {
   "cell_type": "code",
   "execution_count": 45,
   "metadata": {},
   "outputs": [
    {
     "data": {
      "text/plain": [
       "{'BovineHD4100000577': 98367573, 'BovineHD4100000819': 144587013}"
      ]
     },
     "execution_count": 45,
     "metadata": {},
     "output_type": "execute_result"
    }
   ],
   "source": [
    "genome_dict"
   ]
  },
  {
   "cell_type": "markdown",
   "metadata": {},
   "source": [
    "* This behaviour works for any kind of initialized dictionary. Add more fruits to myDictionary."
   ]
  },
  {
   "cell_type": "markdown",
   "metadata": {},
   "source": [
    "### 0.2 Loops and control flow\n",
    "\n",
    "Let's see how a simple python for loop works. Lets loop through the letters of `myString` and `myList` and print them."
   ]
  },
  {
   "cell_type": "code",
   "execution_count": 49,
   "metadata": {},
   "outputs": [
    {
     "name": "stdout",
     "output_type": "stream",
     "text": [
      "b\n",
      "a\n",
      "n\n",
      "a\n",
      "n\n",
      "a\n",
      "z\n"
     ]
    }
   ],
   "source": [
    "for i in myString:\n",
    "    print(i)"
   ]
  },
  {
   "cell_type": "code",
   "execution_count": 50,
   "metadata": {},
   "outputs": [
    {
     "name": "stdout",
     "output_type": "stream",
     "text": [
      "1\n",
      "2\n",
      "cat\n",
      "4\n",
      "5\n",
      "6\n",
      "7\n",
      "8\n"
     ]
    }
   ],
   "source": [
    "for i in myList:\n",
    "    print(i)"
   ]
  },
  {
   "cell_type": "markdown",
   "metadata": {},
   "source": [
    "Python for loops are implicit in their index handling of strings and lists. One could read these loops as \"for every item in my object...\""
   ]
  },
  {
   "cell_type": "markdown",
   "metadata": {},
   "source": [
    "What if we wanted to just print the integers from 1 to 10? We would need to resort to the `range()` function."
   ]
  },
  {
   "cell_type": "code",
   "execution_count": 66,
   "metadata": {},
   "outputs": [
    {
     "name": "stdout",
     "output_type": "stream",
     "text": [
      "0\n",
      "1\n",
      "2\n",
      "3\n",
      "4\n",
      "5\n",
      "6\n",
      "7\n",
      "8\n",
      "9\n",
      "10\n"
     ]
    }
   ],
   "source": [
    "for i in range(0,11):\n",
    "    print(i)"
   ]
  },
  {
   "cell_type": "markdown",
   "metadata": {},
   "source": [
    "If we want a similar behaviour to R for printing the items in `myList`(avoid if possible):"
   ]
  },
  {
   "cell_type": "code",
   "execution_count": 64,
   "metadata": {},
   "outputs": [
    {
     "name": "stdout",
     "output_type": "stream",
     "text": [
      "1\n",
      "2\n",
      "cat\n",
      "4\n",
      "5\n",
      "6\n",
      "7\n",
      "8\n"
     ]
    }
   ],
   "source": [
    "for i in range( 0,len(myList) ):    # len() returns the length of an object\n",
    "    print(myList[i] )"
   ]
  },
  {
   "cell_type": "markdown",
   "metadata": {},
   "source": [
    "Let's see the behaviour of for loops on dictionaries:"
   ]
  },
  {
   "cell_type": "code",
   "execution_count": 87,
   "metadata": {},
   "outputs": [
    {
     "name": "stdout",
     "output_type": "stream",
     "text": [
      "apple\n",
      "pear\n",
      "grapes\n"
     ]
    }
   ],
   "source": [
    "for i in myDictionary:\n",
    "    print(i)"
   ]
  },
  {
   "cell_type": "code",
   "execution_count": 70,
   "metadata": {},
   "outputs": [
    {
     "name": "stdout",
     "output_type": "stream",
     "text": [
      "4\n",
      "3\n",
      "1\n"
     ]
    }
   ],
   "source": [
    "for i in myDictionary:\n",
    "    print( myDictionary[i] )"
   ]
  },
  {
   "cell_type": "markdown",
   "metadata": {},
   "source": [
    "Let's see the syntax of conditional statements. We'll print all **even** numbers from 1 to 10."
   ]
  },
  {
   "cell_type": "code",
   "execution_count": 75,
   "metadata": {},
   "outputs": [
    {
     "name": "stdout",
     "output_type": "stream",
     "text": [
      "2\n",
      "4\n",
      "6\n",
      "8\n",
      "10\n"
     ]
    }
   ],
   "source": [
    "for i in range(1,11):\n",
    "    if i % 2 == 0 :               # % is the modulo operator\n",
    "        print(i)"
   ]
  },
  {
   "cell_type": "markdown",
   "metadata": {},
   "source": [
    "Let's slightly modify our code to report on odd numbers:"
   ]
  },
  {
   "cell_type": "code",
   "execution_count": 76,
   "metadata": {},
   "outputs": [
    {
     "name": "stdout",
     "output_type": "stream",
     "text": [
      "ODD!\n",
      "2\n",
      "ODD!\n",
      "4\n",
      "ODD!\n",
      "6\n",
      "ODD!\n",
      "8\n",
      "ODD!\n",
      "10\n"
     ]
    }
   ],
   "source": [
    "for i in range(1,11):\n",
    "    if i % 2 == 0 :               \n",
    "        print(i)\n",
    "    else:\n",
    "        print(\"ODD!\")"
   ]
  },
  {
   "cell_type": "markdown",
   "metadata": {},
   "source": [
    "Let's further modify our code to introduce elif statements. We'll print numbers from 1 to 20, but if the number is a multiple of 3 or 7, well print `PUM!`"
   ]
  },
  {
   "cell_type": "code",
   "execution_count": 79,
   "metadata": {},
   "outputs": [
    {
     "name": "stdout",
     "output_type": "stream",
     "text": [
      "1\n",
      "2\n",
      "PUM!\n",
      "4\n",
      "5\n",
      "PUM!\n",
      "PUM!\n",
      "8\n",
      "PUM!\n",
      "10\n",
      "11\n",
      "PUM!\n",
      "13\n",
      "PUM!\n",
      "PUM!\n",
      "16\n",
      "17\n",
      "PUM!\n",
      "19\n",
      "20\n"
     ]
    }
   ],
   "source": [
    "for i in range(1,21):\n",
    "    if i % 3 == 0:\n",
    "        print(\"PUM!\")\n",
    "    elif i % 7 == 0:\n",
    "        print(\"PUM!\")\n",
    "    else:\n",
    "        print(i)"
   ]
  },
  {
   "cell_type": "markdown",
   "metadata": {},
   "source": [
    "We could reduce the above code using logical operators, as the action followed for multiples of 3 and 7 is the same:"
   ]
  },
  {
   "cell_type": "code",
   "execution_count": 81,
   "metadata": {},
   "outputs": [
    {
     "name": "stdout",
     "output_type": "stream",
     "text": [
      "1\n",
      "2\n",
      "PUM!\n",
      "4\n",
      "5\n",
      "PUM!\n",
      "PUM!\n",
      "8\n",
      "PUM!\n",
      "10\n",
      "11\n",
      "PUM!\n",
      "13\n",
      "PUM!\n",
      "PUM!\n",
      "16\n",
      "17\n",
      "PUM!\n",
      "19\n",
      "20\n"
     ]
    }
   ],
   "source": [
    "for i in range(1,21):\n",
    "    if i % 3 == 0 or i % 7 == 0:\n",
    "        print(\"PUM!\")\n",
    "    else:\n",
    "        print(i)"
   ]
  },
  {
   "cell_type": "markdown",
   "metadata": {},
   "source": [
    "* Using the `myDictionary` dictionary, print the name of keys whose values are greater than 2.\n",
    "* Using myList, print all entries which are of type str (string)\n"
   ]
  },
  {
   "cell_type": "markdown",
   "metadata": {},
   "source": [
    "**Important note**: Python is *very* strict with indentation. Try writing a poorly indented for loop to see what happens."
   ]
  },
  {
   "cell_type": "markdown",
   "metadata": {},
   "source": [
    "\n",
    "### 0.3 Methods"
   ]
  },
  {
   "cell_type": "markdown",
   "metadata": {},
   "source": [
    "We have already seen some python functions such as `print()` , `len()` and `range()`. Methods are similar to functions but have some extra properties (not all listed):\n",
    "\n",
    "1. They depend on their association with objects\n",
    "2. They may not return any value\n",
    "\n",
    "\n",
    "We'll learn a few of the most used methods."
   ]
  },
  {
   "cell_type": "markdown",
   "metadata": {},
   "source": [
    "#### 0.3.0 String methods"
   ]
  },
  {
   "cell_type": "markdown",
   "metadata": {},
   "source": [
    "String methods are for manipulating strings. They all generate new values (they don't modify its input).\n",
    "\n",
    "##### The `format()` method is for creating strings using predefined variables:"
   ]
  },
  {
   "cell_type": "code",
   "execution_count": 9,
   "metadata": {},
   "outputs": [
    {
     "data": {
      "text/plain": [
       "'Today is Monday'"
      ]
     },
     "execution_count": 9,
     "metadata": {},
     "output_type": "execute_result"
    }
   ],
   "source": [
    "today = \"Monday\"\n",
    "\"Today is {0}\".format(  today  )"
   ]
  },
  {
   "cell_type": "code",
   "execution_count": 5,
   "metadata": {},
   "outputs": [
    {
     "data": {
      "text/plain": [
       "'Today is Monday, tomorrow is Tuesday'"
      ]
     },
     "execution_count": 5,
     "metadata": {},
     "output_type": "execute_result"
    }
   ],
   "source": [
    "tomorrow = \"Tuesday\"\n",
    "\"Today is {0}, tomorrow is {1}\".format( today, tomorrow )"
   ]
  },
  {
   "cell_type": "markdown",
   "metadata": {},
   "source": [
    "An alternative way to do this, would be using the string `+` operator, wich concatenates strings:"
   ]
  },
  {
   "cell_type": "code",
   "execution_count": 8,
   "metadata": {},
   "outputs": [
    {
     "data": {
      "text/plain": [
       "'Today is Monday, tomorrow is Tuesday'"
      ]
     },
     "execution_count": 8,
     "metadata": {},
     "output_type": "execute_result"
    }
   ],
   "source": [
    "\"Today is \" + today + \", tomorrow is \" + tomorrow"
   ]
  },
  {
   "cell_type": "markdown",
   "metadata": {},
   "source": [
    "The preferred usage depends on the situation, but using the `format()` method improves code readability."
   ]
  },
  {
   "cell_type": "markdown",
   "metadata": {},
   "source": [
    "* Try using both methods to create a string from `myList`. (Hint: use the `str()` function to convert an integer into a string)"
   ]
  },
  {
   "cell_type": "markdown",
   "metadata": {},
   "source": [
    "##### The `replace()` method returns a string where the specified value has been replaced with another specified value.\n",
    "\n",
    "`string.replace(\"old\", \"new\", count)`"
   ]
  },
  {
   "cell_type": "code",
   "execution_count": 13,
   "metadata": {},
   "outputs": [
    {
     "data": {
      "text/plain": [
       "\"I'd like to pet my dog right now\""
      ]
     },
     "execution_count": 13,
     "metadata": {},
     "output_type": "execute_result"
    }
   ],
   "source": [
    "s = \"I'd like to pet my dog right now\"\n",
    "s"
   ]
  },
  {
   "cell_type": "code",
   "execution_count": 11,
   "metadata": {},
   "outputs": [
    {
     "data": {
      "text/plain": [
       "\"I'd like to pet my cat right now\""
      ]
     },
     "execution_count": 11,
     "metadata": {},
     "output_type": "execute_result"
    }
   ],
   "source": [
    "s.replace( \"dog\", \"cat\" )"
   ]
  },
  {
   "cell_type": "markdown",
   "metadata": {},
   "source": [
    "* Try using the \"count\" option with this new string:"
   ]
  },
  {
   "cell_type": "code",
   "execution_count": 17,
   "metadata": {},
   "outputs": [],
   "source": [
    "s = \"I'd like to pet my dog right now. My dog is amazing\""
   ]
  },
  {
   "cell_type": "markdown",
   "metadata": {},
   "source": [
    "* You can use the `replace()` method to delete (instead of replace) parts of a string. Figure out how to use it that way."
   ]
  },
  {
   "cell_type": "markdown",
   "metadata": {},
   "source": [
    "##### The `strip()` method removes any trailing whitespace from a string.\n",
    "\n",
    "This is particularly useful when dealing with files. Let's see a simple example"
   ]
  },
  {
   "cell_type": "code",
   "execution_count": 34,
   "metadata": {},
   "outputs": [
    {
     "data": {
      "text/plain": [
       "\"fire coming out of a monkey's head\\n\\n\\n\\n\\n\""
      ]
     },
     "execution_count": 34,
     "metadata": {},
     "output_type": "execute_result"
    }
   ],
   "source": [
    "s = \"fire coming out of a monkey's head\\n\\n\\n\\n\\n\"\n",
    "r = \"water it!\"\n",
    "s"
   ]
  },
  {
   "cell_type": "code",
   "execution_count": 33,
   "metadata": {},
   "outputs": [
    {
     "name": "stdout",
     "output_type": "stream",
     "text": [
      "fire coming out of a monkey's head\n",
      "\n",
      "\n",
      "\n",
      "\n",
      "\n",
      "water it!\n"
     ]
    }
   ],
   "source": [
    "print(s)\n",
    "print(r)"
   ]
  },
  {
   "cell_type": "code",
   "execution_count": 35,
   "metadata": {},
   "outputs": [
    {
     "name": "stdout",
     "output_type": "stream",
     "text": [
      "fire coming out of a monkey's head\n",
      "water it!\n"
     ]
    }
   ],
   "source": [
    "print( s.strip() )\n",
    "print(r)"
   ]
  },
  {
   "cell_type": "markdown",
   "metadata": {},
   "source": [
    "##### The `split()` method splits the string at a specified character, and returns a list.\n",
    "\n",
    "\n",
    "This method is really useful for handling character-delimited tables. The syntax would be:\n",
    "\n",
    "`string.split(delimiter, max)` where max is the maximium number for splitting (default would be -1, i.e. all occurrences)\n",
    "\n"
   ]
  },
  {
   "cell_type": "code",
   "execution_count": 39,
   "metadata": {},
   "outputs": [
    {
     "data": {
      "text/plain": [
       "['banana', ' apple', ' cheese', ' milk', ' fishing rod']"
      ]
     },
     "execution_count": 39,
     "metadata": {},
     "output_type": "execute_result"
    }
   ],
   "source": [
    "grocery = \"banana, apple, cheese, milk, fishing rod\"\n",
    "\n",
    "grocery.split(\",\")"
   ]
  },
  {
   "cell_type": "markdown",
   "metadata": {},
   "source": [
    "* What is the default value for delimiter?\n",
    "* Say you read a plink map file whose lines look like this:"
   ]
  },
  {
   "cell_type": "code",
   "execution_count": 40,
   "metadata": {},
   "outputs": [],
   "source": [
    "bed_line = \"10 ARS-BFGL-BAC-10960 0 20776707\" # chromosome, snp id, centimorgan, position"
   ]
  },
  {
   "cell_type": "markdown",
   "metadata": {},
   "source": [
    "Read the line into a dictionary"
   ]
  },
  {
   "cell_type": "markdown",
   "metadata": {},
   "source": [
    "##### The startswith() method returns a boolean regarding the first character(s) of the input string"
   ]
  },
  {
   "cell_type": "markdown",
   "metadata": {},
   "source": [
    "* There are plenty more string methods. Search the web for other string methods and put one of them to use."
   ]
  },
  {
   "cell_type": "markdown",
   "metadata": {},
   "source": [
    "#### 0.3.1 List methods\n",
    "\n",
    "append, extend, insert, pop, remove, reverse, sort"
   ]
  },
  {
   "cell_type": "markdown",
   "metadata": {},
   "source": [
    "#### 0.3.2 Dictionary methods\n",
    "\n",
    "\n",
    "get, items, keys, pop, values"
   ]
  },
  {
   "cell_type": "markdown",
   "metadata": {},
   "source": [
    "### 0.3.3 Important extras\n",
    "\n",
    "\n",
    "For the sake of time, we've left out some very important concepts in python such as **classes**, **anonymous functions** and **exceptions**. These concepts become very important once the complexity of the data we're handling grows, but for the moment we can do without them."
   ]
  },
  {
   "cell_type": "markdown",
   "metadata": {},
   "source": [
    "## 1. Files I/O\n",
    "\n",
    "\n",
    "\n",
    "\n",
    "readlines, next, for line in file"
   ]
  },
  {
   "cell_type": "markdown",
   "metadata": {},
   "source": [
    "### 1.0 Reading files\n",
    "\n",
    "\n",
    "The preferred syntax for reading files in python would be:"
   ]
  },
  {
   "cell_type": "code",
   "execution_count": 50,
   "metadata": {
    "scrolled": true
   },
   "outputs": [
    {
     "ename": "SyntaxError",
     "evalue": "unexpected EOF while parsing (<ipython-input-50-bcdee7bf3103>, line 2)",
     "output_type": "error",
     "traceback": [
      "\u001b[0;36m  File \u001b[0;32m\"<ipython-input-50-bcdee7bf3103>\"\u001b[0;36m, line \u001b[0;32m2\u001b[0m\n\u001b[0;31m    #some set of actions\u001b[0m\n\u001b[0m                            ^\u001b[0m\n\u001b[0;31mSyntaxError\u001b[0m\u001b[0;31m:\u001b[0m unexpected EOF while parsing\n"
     ]
    }
   ],
   "source": [
    "with open( \"file.txt\", 'r' ) as file:\n",
    "    #some set of actions"
   ]
  },
  {
   "cell_type": "markdown",
   "metadata": {},
   "source": [
    "The previous code is just a template, so it will return an error if you attempt to run it. \n",
    "\n",
    "Let's dissect the code:\n",
    "\n",
    "\n",
    "* The `with` statement.. ..\n",
    "* The `open()` function takes the filename and the action as input. In this case `'r'` means **r**ead\n",
    "* the **`as`** ` file` assigns the input file to a variable called in this case, `file`\n"
   ]
  },
  {
   "cell_type": "markdown",
   "metadata": {},
   "source": [
    "If we want to print each file's line:"
   ]
  },
  {
   "cell_type": "code",
   "execution_count": 51,
   "metadata": {},
   "outputs": [
    {
     "name": "stdout",
     "output_type": "stream",
     "text": [
      "product\tquantity\test_price\n",
      "\n",
      "apple\t3\t2\n",
      "\n",
      "banana\t1\t0.5\n",
      "\n",
      "boat\t1\t250000000\n",
      "\n"
     ]
    }
   ],
   "source": [
    "with open( \"file.txt\", 'r' ) as file:\n",
    "    for i in file:\n",
    "        print(i)"
   ]
  },
  {
   "cell_type": "markdown",
   "metadata": {},
   "source": [
    "* The `next()` function lets you skip one line of the file at a time. The syntax would be `next(file)`. Skip the header implementing `next()`."
   ]
  },
  {
   "cell_type": "markdown",
   "metadata": {},
   "source": [
    "### 1.1 Writing into files"
   ]
  },
  {
   "cell_type": "markdown",
   "metadata": {},
   "source": [
    "The syntax for writing into files is similar to reading files. We use the `write()` method to write into files.\n",
    "\n",
    "\n",
    "Syntax:\n",
    "\n",
    "`file.write(string)`"
   ]
  },
  {
   "cell_type": "markdown",
   "metadata": {},
   "source": [
    "We want to write a famous haiku into a file called `haiku.txt`:\n",
    "\n",
    "*old pond*\n",
    "\n",
    "\n",
    "*frog leaps in*\n",
    "\n",
    "\n",
    "*water's sound*\n"
   ]
  },
  {
   "cell_type": "code",
   "execution_count": 55,
   "metadata": {},
   "outputs": [],
   "source": [
    "haiku = \"old pond\\nfrog leaps in\\nwater's sound\"\n",
    "\n",
    "with open(\"haiku.txt\", 'w' ) as file:\n",
    "    \n",
    "    file.write(haiku)"
   ]
  },
  {
   "cell_type": "markdown",
   "metadata": {},
   "source": [
    "Success! But what if the string was given to us as a list?"
   ]
  },
  {
   "cell_type": "code",
   "execution_count": 58,
   "metadata": {},
   "outputs": [
    {
     "data": {
      "text/plain": [
       "['old pond', 'frog leaps in', \"water's sound\"]"
      ]
     },
     "execution_count": 58,
     "metadata": {},
     "output_type": "execute_result"
    }
   ],
   "source": [
    "haiku = \"old pond\\nfrog leaps in\\nwater's sound\".split(\"\\n\")\n",
    "haiku"
   ]
  },
  {
   "cell_type": "code",
   "execution_count": 59,
   "metadata": {},
   "outputs": [
    {
     "ename": "TypeError",
     "evalue": "write() argument must be str, not list",
     "output_type": "error",
     "traceback": [
      "\u001b[0;31m---------------------------------------------------------------------------\u001b[0m",
      "\u001b[0;31mTypeError\u001b[0m                                 Traceback (most recent call last)",
      "\u001b[0;32m<ipython-input-59-5894803ff2ec>\u001b[0m in \u001b[0;36m<module>\u001b[0;34m\u001b[0m\n\u001b[1;32m      1\u001b[0m \u001b[0;32mwith\u001b[0m \u001b[0mopen\u001b[0m\u001b[0;34m(\u001b[0m\u001b[0;34m\"haiku.txt\"\u001b[0m\u001b[0;34m,\u001b[0m \u001b[0;34m'w'\u001b[0m \u001b[0;34m)\u001b[0m \u001b[0;32mas\u001b[0m \u001b[0mfile\u001b[0m\u001b[0;34m:\u001b[0m\u001b[0;34m\u001b[0m\u001b[0;34m\u001b[0m\u001b[0m\n\u001b[0;32m----> 2\u001b[0;31m     \u001b[0mfile\u001b[0m\u001b[0;34m.\u001b[0m\u001b[0mwrite\u001b[0m\u001b[0;34m(\u001b[0m\u001b[0mhaiku\u001b[0m\u001b[0;34m)\u001b[0m\u001b[0;34m\u001b[0m\u001b[0;34m\u001b[0m\u001b[0m\n\u001b[0m",
      "\u001b[0;31mTypeError\u001b[0m: write() argument must be str, not list"
     ]
    }
   ],
   "source": [
    "with open(\"haiku.txt\", 'w' ) as file:\n",
    "    \n",
    "    file.write(haiku)"
   ]
  },
  {
   "cell_type": "markdown",
   "metadata": {},
   "source": [
    "The `write()` method only takes strings as input, so we have to modify our code."
   ]
  },
  {
   "cell_type": "code",
   "execution_count": 69,
   "metadata": {},
   "outputs": [],
   "source": [
    "with open(\"haiku.txt\", 'w' ) as file:\n",
    "    \n",
    "    for i in haiku:\n",
    "        \n",
    "        file.write(i + \"\\n\")\n",
    "        "
   ]
  },
  {
   "cell_type": "markdown",
   "metadata": {},
   "source": [
    "* Check the resulting file. Something's wrong. It looks like each item on the list is concatenated without any space between them. This is because the `write()` method keeps writing in a line unless you make it write a newline character. Modify the code to write a correct `haiku.txt` file."
   ]
  },
  {
   "cell_type": "markdown",
   "metadata": {},
   "source": [
    "The `'w'` option tells the `open()` function to **overwrite** an existing file, so be careful! If we want to keep writing into the same file we would use the `'a'` option (as in **a**ppend). Let's append the original japanese version into the `haiku.txt` file."
   ]
  },
  {
   "cell_type": "code",
   "execution_count": 70,
   "metadata": {},
   "outputs": [],
   "source": [
    "haiku_original = \"furu ike ya \\nkawazu tobikomu \\nmizu no oto\".split(\"\\n\")"
   ]
  },
  {
   "cell_type": "code",
   "execution_count": 71,
   "metadata": {},
   "outputs": [],
   "source": [
    "with open(\"haiku.txt\", 'a' ) as file:\n",
    "    \n",
    "    file.write(\"-----------\\n\")\n",
    "    file.write(\"The original japanese: \\n\")\n",
    "    for i in haiku_original:\n",
    "        file.write( i + \"\\n\" )\n",
    "        "
   ]
  },
  {
   "cell_type": "markdown",
   "metadata": {},
   "source": [
    "### 1.2 Combining reading and writing\n",
    "\n",
    "\n",
    "Let's use a more realistic example to review what we know so far. We have a genomic gtf file, and we would like to generate a gtf file whose entries only belong to chromosome 11.\n",
    "\n",
    "We need to write a script:\n",
    "\n",
    "**input:** genomic gtf file\n",
    "\n",
    "\n",
    "**output:** chromosome 11 gtf file\n",
    "\n"
   ]
  },
  {
   "cell_type": "code",
   "execution_count": 72,
   "metadata": {},
   "outputs": [],
   "source": [
    "inFile = \"bos_taurus.gtf\"\n",
    "outFile = \"bos_taurus_ch11.gtf\""
   ]
  },
  {
   "cell_type": "code",
   "execution_count": null,
   "metadata": {},
   "outputs": [],
   "source": [
    "with open( inFile, 'r' ) as genome:                                       # open genome gtf (read mode)\n",
    "       \n",
    "    with open(outFile, 'w' ) as chromosome_11:                            # open chr11 gtf (write mode)\n",
    "        \n",
    "        for line in genome:                                               # for each line in genome file\n",
    "            \n",
    "            if line.startswith(\"#\"):                                      # if line begins with comment character #\n",
    "            \n",
    "                pass                                                      # do nothing (skip line)\n",
    "            \n",
    "            else:                                                         # if it is an entry line\n",
    "                \n",
    "                g_list = line.split()                                     # read contents into a list\n",
    "                \n",
    "                if g_list[0] == \"chr11\":                                  # if the first element (chromosome) is chr11\n",
    "                        \n",
    "                        chromosome_11.write( line )                       # write it to the new file\n",
    "                        \n",
    "        "
   ]
  },
  {
   "cell_type": "markdown",
   "metadata": {},
   "source": [
    "There are many ways to read and write files into python. The choice really depends on your file formats, and if you want extra steps between reading and writing. This is a general way that should work in a memory efficient manner in most cases."
   ]
  },
  {
   "cell_type": "markdown",
   "metadata": {},
   "source": [
    "## 2. Useful packages \n",
    "\n",
    "\n",
    "\n",
    "\n",
    "os\n",
    "\n",
    "sys\n",
    "\n",
    "Biopython\n",
    "\n",
    "numpy, math\n",
    "\n"
   ]
  },
  {
   "cell_type": "markdown",
   "metadata": {},
   "source": [
    "## 3. Example scripts\n",
    "\n",
    "\n",
    "blastout_to_gff.py\n",
    "\n",
    "fasta1linea.py\n",
    "\n",
    "modify_map.py"
   ]
  },
  {
   "cell_type": "markdown",
   "metadata": {},
   "source": [
    "## 4. Extras: python related stuff\n",
    "\n",
    "\n",
    "\n",
    "conda, bioconda\n",
    "\n",
    "\n",
    "jupyter notebooks"
   ]
  }
 ],
 "metadata": {
  "kernelspec": {
   "display_name": "Python 3",
   "language": "python",
   "name": "python3"
  },
  "language_info": {
   "codemirror_mode": {
    "name": "ipython",
    "version": 3
   },
   "file_extension": ".py",
   "mimetype": "text/x-python",
   "name": "python",
   "nbconvert_exporter": "python",
   "pygments_lexer": "ipython3",
   "version": "3.7.1"
  }
 },
 "nbformat": 4,
 "nbformat_minor": 2
}
